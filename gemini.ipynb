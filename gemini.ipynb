{
 "cells": [
  {
   "cell_type": "code",
   "execution_count": 6,
   "metadata": {},
   "outputs": [],
   "source": [
    "import pathlib\n",
    "import textwrap\n",
    "\n",
    "import google.generativeai as genai\n",
    "\n",
    "from IPython.display import display\n",
    "from IPython.display import Markdown\n",
    "\n",
    "\n",
    "def to_markdown(text):\n",
    "  text = text.replace('•', '  *')\n",
    "  return Markdown(textwrap.indent(text, '> ', predicate=lambda _: True))"
   ]
  },
  {
   "cell_type": "code",
   "execution_count": 7,
   "metadata": {},
   "outputs": [],
   "source": [
    "GOOGLE_API_KEY = open('gemini_api_key').read()\n",
    "\n",
    "genai.configure(api_key=GOOGLE_API_KEY)\n",
    "\n",
    "model = genai.GenerativeModel('gemini-pro')"
   ]
  },
  {
   "cell_type": "code",
   "execution_count": 15,
   "metadata": {},
   "outputs": [
    {
     "data": {
      "text/markdown": [
       "> * Carlos Caetano\n",
       "> * Carlos Ferreira\n",
       "> * Ermidio Caetano\n",
       "> * Ermidio Ferreira\n",
       "> * Carlos E. Caetano\n",
       "> * Carlos F. Ferreira\n",
       "> * Ermidio E. Caetano\n",
       "> * Ermidio F. Ferreira"
      ],
      "text/plain": [
       "<IPython.core.display.Markdown object>"
      ]
     },
     "execution_count": 15,
     "metadata": {},
     "output_type": "execute_result"
    }
   ],
   "source": [
    "response = model.generate_content(\"Use Processamento de Linguagem Natural para gerar possíveis nomes usados no Linkedin a partir de um nome completo, a resposta deve conter apenas os nomes, sem textos e caracteres desnecessários:\\n Carlos Ermidio Ferreira Caetano\")\n",
    "to_markdown(response.text)"
   ]
  },
  {
   "cell_type": "code",
   "execution_count": 10,
   "metadata": {},
   "outputs": [
    {
     "data": {
      "text/plain": [
       "'The meaning of life is a deeply personal and philosophical question that has been pondered by humans for centuries. There is no one definitive answer, as the meaning of life can vary depending on individual beliefs, values, and experiences. However, some common themes that have emerged throughout history include:\\n\\n* **Purpose:** Many people find meaning in life by pursuing a sense of purpose. This could involve working towards a specific goal, such as raising a family, achieving career success, or making a difference in the world.\\n* **Relationships:** Building and maintaining strong relationships with others can be a source of great meaning. Family, friends, and romantic partners can provide love, support, and a sense of belonging.\\n* **Contribution:** Feeling like you are making a positive contribution to society can also give life meaning. This could involve volunteering your time, donating to charity, or simply being a good friend or neighbor.\\n* **Growth and learning:** Many people find meaning in life through ongoing growth and learning. This could involve pursuing education, developing new skills, or simply challenging yourself to step outside of your comfort zone.\\n* **Experiences:** Life is full of unique and memorable experiences, from the mundane to the extraordinary. Taking the time to appreciate these experiences and seek out new ones can help you find meaning in life.\\n\\nUltimately, the meaning of life is something that you must define for yourself. There is no right or wrong answer, and your meaning may change over time. The important thing is to live a life that is true to your values and that brings you joy and fulfillment.\\n\\nHere are some additional perspectives on the meaning of life:\\n\\n* **Existentialism:** Existentialists believe that there is no inherent meaning in life and that humans must create their own meaning through their actions and choices.\\n* **Humanism:** Humanists believe that the meaning of life lies in human experience and reason. They emphasize the importance of compassion, empathy, and service to others.\\n* **Buddhism:** Buddhists believe that the meaning of life is to end suffering and achieve enlightenment. This can be done through meditation, mindfulness, and compassion.\\n* **Christianity:** Christians believe that the meaning of life is to know and love God and to live according to his commandments. They believe that life on earth is a temporary journey and that the ultimate goal is to spend eternity in heaven with God.\\n\\nThese are just a few of the many different perspectives on the meaning of life. The best way to find meaning in your own life is to explore different ideas and beliefs and to reflect on what is important to you.'"
      ]
     },
     "execution_count": 10,
     "metadata": {},
     "output_type": "execute_result"
    }
   ],
   "source": []
  }
 ],
 "metadata": {
  "kernelspec": {
   "display_name": "Python 3",
   "language": "python",
   "name": "python3"
  },
  "language_info": {
   "codemirror_mode": {
    "name": "ipython",
    "version": 3
   },
   "file_extension": ".py",
   "mimetype": "text/x-python",
   "name": "python",
   "nbconvert_exporter": "python",
   "pygments_lexer": "ipython3",
   "version": "3.10.12"
  }
 },
 "nbformat": 4,
 "nbformat_minor": 2
}
