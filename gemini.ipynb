{
 "cells": [
  {
   "cell_type": "code",
   "execution_count": 83,
   "metadata": {},
   "outputs": [],
   "source": [
    "import google.generativeai as genai\n",
    "\n",
    "from ast import literal_eval\n",
    "\n",
    "from itertools import combinations, product"
   ]
  },
  {
   "cell_type": "code",
   "execution_count": 84,
   "metadata": {},
   "outputs": [
    {
     "name": "stdout",
     "output_type": "stream",
     "text": [
      "26\n",
      "Carlos Ermidio\n",
      "Carlos E\n",
      "Carlos Ferreira\n",
      "Carlos F\n",
      "Carlos Caetano\n",
      "Carlos C\n",
      "Carlos Ermidio Ferreira\n",
      "Carlos Ermidio F\n",
      "Carlos E Ferreira\n",
      "Carlos E F\n",
      "Carlos Ermidio Caetano\n",
      "Carlos Ermidio C\n",
      "Carlos E Caetano\n",
      "Carlos E C\n",
      "Carlos Ferreira Caetano\n",
      "Carlos Ferreira C\n",
      "Carlos F Caetano\n",
      "Carlos F C\n",
      "Carlos Ermidio Ferreira Caetano\n",
      "Carlos Ermidio Ferreira C\n",
      "Carlos Ermidio F Caetano\n",
      "Carlos Ermidio F C\n",
      "Carlos E Ferreira Caetano\n",
      "Carlos E Ferreira C\n",
      "Carlos E F Caetano\n",
      "Carlos E F C\n"
     ]
    }
   ],
   "source": [
    "def gerar_variacoes_nome(nome_completo):\n",
    "    partes_nome = nome_completo.split()\n",
    "\n",
    "    # Primeiro nome é a primeira parte\n",
    "    primeiro_nome = partes_nome[0]\n",
    "\n",
    "    # Sobrenomes são as partes restantes\n",
    "    sobrenomes = partes_nome[1:]\n",
    "\n",
    "    variacoes = []\n",
    "\n",
    "    # Gerar todas as combinações possíveis de sobrenomes\n",
    "    for i in range(1, len(sobrenomes) + 1):\n",
    "        for comb in combinations(sobrenomes, i):\n",
    "            # Gerar todas as combinações possíveis de abreviações para esta combinação de sobrenomes\n",
    "            for abrev in product(*([sobrenome, sobrenome[0]] for sobrenome in comb)):\n",
    "                variacoes.append(primeiro_nome + ' ' + ' '.join(abrev))\n",
    "\n",
    "    return variacoes\n",
    "\n",
    "nome_completo = \"Carlos Ermidio Ferreira Caetano\"\n",
    "todas_variacoes = gerar_variacoes_nome(nome_completo)\n",
    "\n",
    "print(len(todas_variacoes))\n",
    "\n",
    "for v in todas_variacoes:\n",
    "    print(v)\n"
   ]
  },
  {
   "cell_type": "code",
   "execution_count": 85,
   "metadata": {},
   "outputs": [],
   "source": [
    "GOOGLE_API_KEY = open('gemini_api_key').read()\n",
    "\n",
    "genai.configure(api_key=GOOGLE_API_KEY)\n",
    "\n",
    "model = genai.GenerativeModel('gemini-pro')"
   ]
  },
  {
   "cell_type": "code",
   "execution_count": 86,
   "metadata": {},
   "outputs": [],
   "source": [
    "query = f'''Use Processamento de Linguagem Natural para ordenar , do mais ao menos provável, 5 das possíveis variações que poderiam ser usadas como nome na plataforma Linkedin:\n",
    "{'\\n'.join(todas_variacoes)}\n",
    "Apresente o resultado em uma lista em python, sem textos ou caracteres desnecessários\n",
    "'''\n",
    "\n",
    "response = model.generate_content(query)\n",
    "result = response.text.replace('\\n', '')\n",
    "result = result[result.find('['):result.find(']')+1]\n",
    "result\n",
    "\n",
    "nomes = literal_eval(result)"
   ]
  },
  {
   "cell_type": "code",
   "execution_count": 87,
   "metadata": {},
   "outputs": [
    {
     "data": {
      "text/plain": [
       "['Carlos Ermidio Ferreira Caetano',\n",
       " 'Carlos Ermidio Ferreira C',\n",
       " 'Carlos Ermidio F Caetano',\n",
       " 'Carlos Ermidio F C',\n",
       " 'Carlos Ermidio Ferreira']"
      ]
     },
     "execution_count": 87,
     "metadata": {},
     "output_type": "execute_result"
    }
   ],
   "source": [
    "nomes"
   ]
  }
 ],
 "metadata": {
  "kernelspec": {
   "display_name": "Python 3",
   "language": "python",
   "name": "python3"
  },
  "language_info": {
   "codemirror_mode": {
    "name": "ipython",
    "version": 3
   },
   "file_extension": ".py",
   "mimetype": "text/x-python",
   "name": "python",
   "nbconvert_exporter": "python",
   "pygments_lexer": "ipython3",
   "version": "3.12.3"
  }
 },
 "nbformat": 4,
 "nbformat_minor": 2
}
